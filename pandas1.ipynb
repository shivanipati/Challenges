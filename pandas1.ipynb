{
 "cells": [
  {
   "cell_type": "markdown",
   "id": "97136e61",
   "metadata": {},
   "source": [
    "# series"
   ]
  },
  {
   "cell_type": "code",
   "execution_count": 3,
   "id": "e1b12093",
   "metadata": {},
   "outputs": [
    {
     "name": "stdout",
     "output_type": "stream",
     "text": [
      "a    1\n",
      "b    3\n",
      "c    4\n",
      "d    5\n",
      "dtype: int64\n",
      "<class 'pandas.core.series.Series'>\n"
     ]
    }
   ],
   "source": [
    "import pandas as pd\n",
    "x = [1,3,4,5]\n",
    "var = pd.Series(x,index = ['a','b','c','d'])\n",
    "print(var)\n",
    "print(type(var))"
   ]
  },
  {
   "cell_type": "code",
   "execution_count": 7,
   "id": "79f1c9b7",
   "metadata": {},
   "outputs": [
    {
     "name": "stdout",
     "output_type": "stream",
     "text": [
      "1    10.0\n",
      "2    10.0\n",
      "3    10.0\n",
      "4     NaN\n",
      "5     NaN\n",
      "dtype: float64\n"
     ]
    }
   ],
   "source": [
    "s1 = pd.Series(5,index=[1,2,3,4,5])\n",
    "s2 = pd.Series(5,index=[1,2,3])\n",
    "print(s1+s2)"
   ]
  },
  {
   "cell_type": "code",
   "execution_count": 15,
   "id": "051c17ab",
   "metadata": {},
   "outputs": [
    {
     "name": "stdout",
     "output_type": "stream",
     "text": [
      "name         [shiv, payal, kamal, reshami]\n",
      "rank                          [1, 2, 3, 4]\n",
      "possition    [first, second, thirt, fourt]\n",
      "dtype: object\n",
      "a    23\n",
      "b    54\n",
      "c    23\n",
      "d    65\n",
      "e    76\n",
      "dtype: int64\n"
     ]
    }
   ],
   "source": [
    "dic = {\"name\":['shiv','payal','kamal','reshami'],\"rank\":[1,2,3,4],\"possition\":['first','second','thirt','fourt']}\n",
    "no1 = pd.Series(dic)\n",
    "print(no1)\n",
    "no2=[23,54,23,65,76]\n",
    "no2 = pd.Series(no2,index=['a','b','c','d','e'])\n",
    "print(no2)"
   ]
  }
 ],
 "metadata": {
  "kernelspec": {
   "display_name": "Python 3 (ipykernel)",
   "language": "python",
   "name": "python3"
  },
  "language_info": {
   "codemirror_mode": {
    "name": "ipython",
    "version": 3
   },
   "file_extension": ".py",
   "mimetype": "text/x-python",
   "name": "python",
   "nbconvert_exporter": "python",
   "pygments_lexer": "ipython3",
   "version": "3.11.3"
  }
 },
 "nbformat": 4,
 "nbformat_minor": 5
}
