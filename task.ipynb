{
 "cells": [
  {
   "cell_type": "code",
   "execution_count": 4,
   "id": "542f1127",
   "metadata": {},
   "outputs": [
    {
     "name": "stdout",
     "output_type": "stream",
     "text": [
      "['A' 'B' 'C' 'm' 'q' 'r'] [3 2 2 1 1 1]\n"
     ]
    }
   ],
   "source": [
    "import numpy as np\n",
    "mylist = ['A','B','C','B','A','C','A','r','m','q']\n",
    "uniqueList, counts = np.unique(mylist,return_counts = True)\n",
    "print(uniqueList,counts)"
   ]
  },
  {
   "cell_type": "code",
   "execution_count": 5,
   "id": "6d651d82",
   "metadata": {},
   "outputs": [
    {
     "name": "stdout",
     "output_type": "stream",
     "text": [
      "enter the first number 7\n",
      "enter the second number11\n",
      "0\n",
      "7\n",
      "(0, 7)\n"
     ]
    }
   ],
   "source": [
    "a = int(input(\"enter the first number \"))\n",
    "b = int(input(\"enter the second number\"))\n",
    "print(a//b)\n",
    "print(a%b)\n",
    "print(divmod(a,b))\n",
    "\n"
   ]
  },
  {
   "cell_type": "code",
   "execution_count": 6,
   "id": "b8e73786",
   "metadata": {},
   "outputs": [
    {
     "name": "stdout",
     "output_type": "stream",
     "text": [
      "['False', 'None', 'True', 'and', 'as', 'assert', 'async', 'await', 'break', 'class', 'continue', 'def', 'del', 'elif', 'else', 'except', 'finally', 'for', 'from', 'global', 'if', 'import', 'in', 'is', 'lambda', 'nonlocal', 'not', 'or', 'pass', 'raise', 'return', 'try', 'while', 'with', 'yield']\n",
      "35\n"
     ]
    }
   ],
   "source": [
    "import keyword\n",
    "print(keyword.kwlist)\n",
    "print(len(keyword.kwlist))"
   ]
  },
  {
   "cell_type": "code",
   "execution_count": 7,
   "id": "46e1644f",
   "metadata": {},
   "outputs": [
    {
     "name": "stdout",
     "output_type": "stream",
     "text": [
      "enter the password009984\n",
      "your password change correct !\n"
     ]
    }
   ],
   "source": [
    "oldpass = \"009984\"\n",
    "newpass =input(\"enter the password\")\n",
    "if ( newpass==oldpass):\n",
    "    print(\"your password change correct !\")\n",
    "else:\n",
    "    print(\"your password not match \")"
   ]
  },
  {
   "cell_type": "code",
   "execution_count": 8,
   "id": "8d4fe154",
   "metadata": {},
   "outputs": [
    {
     "name": "stdout",
     "output_type": "stream",
     "text": [
      "5\n",
      "1\n",
      "22\n",
      "333\n",
      "4444\n"
     ]
    }
   ],
   "source": [
    "for i in range(1,int(input())):\n",
    "    print(int(i*10**i/9))"
   ]
  }
 ],
 "metadata": {
  "kernelspec": {
   "display_name": "Python 3 (ipykernel)",
   "language": "python",
   "name": "python3"
  },
  "language_info": {
   "codemirror_mode": {
    "name": "ipython",
    "version": 3
   },
   "file_extension": ".py",
   "mimetype": "text/x-python",
   "name": "python",
   "nbconvert_exporter": "python",
   "pygments_lexer": "ipython3",
   "version": "3.11.3"
  }
 },
 "nbformat": 4,
 "nbformat_minor": 5
}
