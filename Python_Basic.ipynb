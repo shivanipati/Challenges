{
 "cells": [
  {
   "cell_type": "code",
   "execution_count": 3,
   "id": "bece69ac",
   "metadata": {},
   "outputs": [
    {
     "name": "stdout",
     "output_type": "stream",
     "text": [
      "Shivani Patidar\n"
     ]
    }
   ],
   "source": [
    "name = \"shivani patidar\"\n",
    "print(name.title())"
   ]
  },
  {
   "cell_type": "code",
   "execution_count": 6,
   "id": "cb0e668f",
   "metadata": {},
   "outputs": [
    {
     "name": "stdout",
     "output_type": "stream",
     "text": [
      "SHIVANI PATIDAR\n",
      "shivani patidar\n"
     ]
    }
   ],
   "source": [
    "\n",
    "print(name.upper())\n",
    "print(name.lower())"
   ]
  },
  {
   "cell_type": "code",
   "execution_count": 15,
   "id": "1ecc9d28",
   "metadata": {},
   "outputs": [
    {
     "name": "stdout",
     "output_type": "stream",
     "text": [
      "Shivani Patidar\n",
      "shivani patidar\n",
      "shivani patidar\n"
     ]
    }
   ],
   "source": [
    "first = 'shivani'\n",
    "last = 'patidar'\n",
    "fullname= f\"{first} {last}\"\n",
    "print(fullname.title())\n",
    "print(fullname.rstrip())\n",
    "print(fullname.lstrip())"
   ]
  },
  {
   "cell_type": "code",
   "execution_count": 23,
   "id": "c5f4196f",
   "metadata": {},
   "outputs": [
    {
     "name": "stdout",
     "output_type": "stream",
     "text": [
      "['car', 'motor', 'pen', 'volet']\n",
      "car\n",
      "The First List Name Car And Second Name Motor\n",
      "['mary', 'mayara', 'motor', 'pen', 'volet']\n",
      "['mayara', 'motor', 'pen', 'volet']\n"
     ]
    }
   ],
   "source": [
    "lists = ['car','motor','pen','volet']\n",
    "print(lists)\n",
    "print(lists[0])\n",
    "print(f\"the first list name {lists[0]} and second name {lists[1]}\".title())\n",
    "lists[0]='mayara'\n",
    "lists.insert(0,'mary')\n",
    "print(lists)\n",
    "\n",
    "del lists[0]\n",
    "print(lists)"
   ]
  },
  {
   "cell_type": "code",
   "execution_count": 13,
   "id": "b377c20f",
   "metadata": {},
   "outputs": [
    {
     "name": "stdout",
     "output_type": "stream",
     "text": [
      "satyanarayan patidar farmar\n"
     ]
    }
   ],
   "source": [
    "father = \"satyanarayan patidar\"\n",
    "occupation = \"farmar\"\n",
    "\n",
    "print(f\"{father} {occupation}\")"
   ]
  }
 ],
 "metadata": {
  "kernelspec": {
   "display_name": "Python 3 (ipykernel)",
   "language": "python",
   "name": "python3"
  },
  "language_info": {
   "codemirror_mode": {
    "name": "ipython",
    "version": 3
   },
   "file_extension": ".py",
   "mimetype": "text/x-python",
   "name": "python",
   "nbconvert_exporter": "python",
   "pygments_lexer": "ipython3",
   "version": "3.11.3"
  }
 },
 "nbformat": 4,
 "nbformat_minor": 5
}
