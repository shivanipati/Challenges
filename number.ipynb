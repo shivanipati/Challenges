{
 "cells": [
  {
   "cell_type": "code",
   "execution_count": 1,
   "id": "7979eaa2",
   "metadata": {},
   "outputs": [
    {
     "name": "stdout",
     "output_type": "stream",
     "text": [
      "3 1000\n",
      "2 3 4\n",
      "4 3 55 5\n",
      "6 5 3 2 3 2\n",
      "66\n"
     ]
    }
   ],
   "source": [
    "from itertools import product\n",
    "\n",
    "K, M = map(int,input().split())\n",
    "\n",
    "N = (list(map(int, input().split()))[1:] for _ in range(K))\n",
    "\n",
    "max_lst = []\n",
    "for item in product(*N):\n",
    "    S = 0\n",
    "    for val in item:\n",
    "        S += val**2\n",
    "    S_max = S % M\n",
    "    max_lst.append(S_max)\n",
    "    \n",
    "print(max(max_lst))"
   ]
  }
 ],
 "metadata": {
  "kernelspec": {
   "display_name": "Python 3 (ipykernel)",
   "language": "python",
   "name": "python3"
  },
  "language_info": {
   "codemirror_mode": {
    "name": "ipython",
    "version": 3
   },
   "file_extension": ".py",
   "mimetype": "text/x-python",
   "name": "python",
   "nbconvert_exporter": "python",
   "pygments_lexer": "ipython3",
   "version": "3.11.3"
  }
 },
 "nbformat": 4,
 "nbformat_minor": 5
}
